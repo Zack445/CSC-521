{
  "nbformat": 4,
  "nbformat_minor": 0,
  "metadata": {
    "colab": {
      "provenance": [],
      "authorship_tag": "ABX9TyPRgTIztbF2LGAlBtKs4/O4",
      "include_colab_link": true
    },
    "kernelspec": {
      "name": "python3",
      "display_name": "Python 3"
    },
    "language_info": {
      "name": "python"
    }
  },
  "cells": [
    {
      "cell_type": "markdown",
      "metadata": {
        "id": "view-in-github",
        "colab_type": "text"
      },
      "source": [
        "<a href=\"https://colab.research.google.com/github/Zack445/CSC-521/blob/main/W5_Zachary_Mercado.ipynb\" target=\"_parent\"><img src=\"https://colab.research.google.com/assets/colab-badge.svg\" alt=\"Open In Colab\"/></a>"
      ]
    },
    {
      "cell_type": "markdown",
      "source": [
        "Bogo Sort"
      ],
      "metadata": {
        "id": "OqMBf034DcTu"
      }
    },
    {
      "cell_type": "code",
      "execution_count": 1,
      "metadata": {
        "colab": {
          "base_uri": "https://localhost:8080/"
        },
        "id": "vtv9ZEryC4U8",
        "outputId": "3c516b34-da90-47a8-c15d-03ad57d5f6e5"
      },
      "outputs": [
        {
          "output_type": "stream",
          "name": "stdout",
          "text": [
            "Current array state:  [0, 4, 3, 2]\n",
            "Current array state:  [4, 2, 0, 3]\n",
            "Current array state:  [2, 4, 3, 0]\n",
            "Current array state:  [0, 4, 3, 2]\n",
            "Current array state:  [2, 0, 3, 4]\n",
            "Current array state:  [3, 4, 0, 2]\n",
            "Current array state:  [4, 2, 0, 3]\n",
            "Current array state:  [0, 3, 2, 4]\n",
            "Current array state:  [3, 4, 0, 2]\n",
            "Current array state:  [3, 0, 4, 2]\n",
            "Current array state:  [4, 3, 2, 0]\n",
            "Current array state:  [2, 0, 4, 3]\n",
            "Current array state:  [2, 3, 4, 0]\n",
            "Current array state:  [4, 2, 0, 3]\n",
            "Current array state:  [0, 3, 2, 4]\n",
            "Current array state:  [3, 2, 4, 0]\n",
            "Current array state:  [3, 2, 0, 4]\n",
            "Current array state:  [2, 4, 0, 3]\n",
            "Current array state:  [4, 0, 3, 2]\n",
            "Current array state:  [4, 0, 2, 3]\n",
            "Current array state:  [0, 2, 4, 3]\n",
            "Current array state:  [4, 0, 3, 2]\n",
            "Current array state:  [4, 0, 3, 2]\n",
            "Current array state:  [0, 3, 4, 2]\n",
            "Current array state:  [0, 4, 2, 3]\n",
            "Current array state:  [2, 3, 0, 4]\n",
            "Current array state:  [3, 0, 4, 2]\n",
            "Current array state:  [3, 4, 2, 0]\n",
            "Current array state:  [4, 3, 2, 0]\n",
            "Current array state:  [3, 2, 4, 0]\n",
            "Current array state:  [4, 2, 0, 3]\n",
            "Current array state:  [3, 4, 0, 2]\n",
            "Current array state:  [0, 4, 3, 2]\n",
            "Current array state:  [0, 3, 2, 4]\n",
            "Current array state:  [2, 0, 3, 4]\n",
            "Current array state:  [0, 3, 4, 2]\n",
            "Current array state:  [3, 0, 4, 2]\n",
            "Current array state:  [4, 2, 3, 0]\n",
            "Current array state:  [2, 0, 3, 4]\n",
            "Current array state:  [3, 2, 4, 0]\n",
            "Current array state:  [2, 3, 0, 4]\n",
            "Current array state:  [2, 0, 3, 4]\n",
            "Current array state:  [2, 0, 4, 3]\n",
            "Current array state:  [3, 4, 0, 2]\n",
            "Current array state:  [4, 0, 2, 3]\n",
            "Current array state:  [4, 2, 3, 0]\n",
            "Current array state:  [2, 0, 3, 4]\n",
            "Current array state:  [2, 4, 0, 3]\n",
            "Current array state:  [0, 2, 3, 4]\n",
            "======================\n",
            "Sorted Array:\n",
            "0 2 3 4\n",
            "======================\n"
          ]
        }
      ],
      "source": [
        "import random\n",
        "\n",
        "def bogoSort(a):\n",
        "  n=len(a)\n",
        "  while not is_sorted(a):\n",
        "    shuffle(a)\n",
        "    print(\"Current array state: \", a)\n",
        "\n",
        "def is_sorted(a):\n",
        "  n = len(a)\n",
        "  for i in range(0, n-1):\n",
        "    if a[i] > a[i+1]:\n",
        "      return False\n",
        "  return True\n",
        "\n",
        "def shuffle(a):\n",
        "  n=len(a)\n",
        "  for i in range(n):\n",
        "    r=random.randint(0,n-1)\n",
        "    a[i],a[r] = a[r],a[i]\n",
        "\n",
        "a=[3,2,4,0]\n",
        "bogoSort(a)\n",
        "print(\"======================\")\n",
        "print(\"Sorted Array:\")\n",
        "print(\" \".join(str(x) for x in a))\n",
        "print(\"======================\")"
      ]
    },
    {
      "cell_type": "markdown",
      "source": [
        "Bubble Sort"
      ],
      "metadata": {
        "id": "HXC6BqnqEsCa"
      }
    },
    {
      "cell_type": "code",
      "source": [
        "def bubbleSort(arr):\n",
        "  n = len(arr)\n",
        "  for i in range(n):\n",
        "    for j in range(0, n-i-1):\n",
        "      if arr[j] > arr[j+1]:\n",
        "        arr[j], arr[j+1] = arr[j+1], arr[j]\n",
        "      print(\"Step: \", arr)\n",
        "    print(\"After pass\", i+1, \":\", arr)\n",
        "    print(\"\")\n",
        "  return arr\n",
        "\n",
        "arr = [64, 34, 25, 12, 22, 11, 90]\n",
        "print(\"Original array: \", arr)\n",
        "sorted_arr = bubbleSort(arr)\n",
        "print(\"Sorted array: \", sorted_arr)"
      ],
      "metadata": {
        "colab": {
          "base_uri": "https://localhost:8080/"
        },
        "id": "KJwI7eKtEty3",
        "outputId": "ceb44374-c228-4d98-a917-2da5cc1537e7"
      },
      "execution_count": 2,
      "outputs": [
        {
          "output_type": "stream",
          "name": "stdout",
          "text": [
            "Original array:  [64, 34, 25, 12, 22, 11, 90]\n",
            "Step:  [34, 64, 25, 12, 22, 11, 90]\n",
            "Step:  [34, 25, 64, 12, 22, 11, 90]\n",
            "Step:  [34, 25, 12, 64, 22, 11, 90]\n",
            "Step:  [34, 25, 12, 22, 64, 11, 90]\n",
            "Step:  [34, 25, 12, 22, 11, 64, 90]\n",
            "Step:  [34, 25, 12, 22, 11, 64, 90]\n",
            "After pass 1 : [34, 25, 12, 22, 11, 64, 90]\n",
            "\n",
            "Step:  [25, 34, 12, 22, 11, 64, 90]\n",
            "Step:  [25, 12, 34, 22, 11, 64, 90]\n",
            "Step:  [25, 12, 22, 34, 11, 64, 90]\n",
            "Step:  [25, 12, 22, 11, 34, 64, 90]\n",
            "Step:  [25, 12, 22, 11, 34, 64, 90]\n",
            "After pass 2 : [25, 12, 22, 11, 34, 64, 90]\n",
            "\n",
            "Step:  [12, 25, 22, 11, 34, 64, 90]\n",
            "Step:  [12, 22, 25, 11, 34, 64, 90]\n",
            "Step:  [12, 22, 11, 25, 34, 64, 90]\n",
            "Step:  [12, 22, 11, 25, 34, 64, 90]\n",
            "After pass 3 : [12, 22, 11, 25, 34, 64, 90]\n",
            "\n",
            "Step:  [12, 22, 11, 25, 34, 64, 90]\n",
            "Step:  [12, 11, 22, 25, 34, 64, 90]\n",
            "Step:  [12, 11, 22, 25, 34, 64, 90]\n",
            "After pass 4 : [12, 11, 22, 25, 34, 64, 90]\n",
            "\n",
            "Step:  [11, 12, 22, 25, 34, 64, 90]\n",
            "Step:  [11, 12, 22, 25, 34, 64, 90]\n",
            "After pass 5 : [11, 12, 22, 25, 34, 64, 90]\n",
            "\n",
            "Step:  [11, 12, 22, 25, 34, 64, 90]\n",
            "After pass 6 : [11, 12, 22, 25, 34, 64, 90]\n",
            "\n",
            "After pass 7 : [11, 12, 22, 25, 34, 64, 90]\n",
            "\n",
            "Sorted array:  [11, 12, 22, 25, 34, 64, 90]\n"
          ]
        }
      ]
    },
    {
      "cell_type": "markdown",
      "source": [
        "Selection Sort"
      ],
      "metadata": {
        "id": "Ea0ohk7IFVsO"
      }
    },
    {
      "cell_type": "code",
      "source": [
        "def selectionSort(arr):\n",
        "  n = len(arr)\n",
        "  for i in range(n):\n",
        "    min_idx = i\n",
        "    for j in range(i+1, n):\n",
        "      if arr[j] < arr[min_idx]:\n",
        "        min_idx = j\n",
        "    arr[i], arr[min_idx] = arr[min_idx], arr[i]\n",
        "    print(\"After iteration\", i+1,\":\", arr)\n",
        "  return arr\n",
        "\n",
        "arr = [64,25,12,22,11]\n",
        "print(\"Original array: \", arr)\n",
        "sorted_arr = selectionSort(arr)\n",
        "print(\"Sorted array: \", sorted_arr)"
      ],
      "metadata": {
        "colab": {
          "base_uri": "https://localhost:8080/"
        },
        "id": "AxpyVxQTFXeX",
        "outputId": "a401ad03-7d0e-44d6-d332-a041e8d26fa6"
      },
      "execution_count": 3,
      "outputs": [
        {
          "output_type": "stream",
          "name": "stdout",
          "text": [
            "Original array:  [64, 25, 12, 22, 11]\n",
            "After iteration 1 : [11, 25, 12, 22, 64]\n",
            "After iteration 2 : [11, 12, 25, 22, 64]\n",
            "After iteration 3 : [11, 12, 22, 25, 64]\n",
            "After iteration 4 : [11, 12, 22, 25, 64]\n",
            "After iteration 5 : [11, 12, 22, 25, 64]\n",
            "Sorted array:  [11, 12, 22, 25, 64]\n"
          ]
        }
      ]
    }
  ]
}