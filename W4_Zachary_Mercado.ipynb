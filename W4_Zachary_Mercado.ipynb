{
  "nbformat": 4,
  "nbformat_minor": 0,
  "metadata": {
    "colab": {
      "provenance": [],
      "authorship_tag": "ABX9TyPxZSJSWxLBNEE2avxNYIr/",
      "include_colab_link": true
    },
    "kernelspec": {
      "name": "python3",
      "display_name": "Python 3"
    },
    "language_info": {
      "name": "python"
    }
  },
  "cells": [
    {
      "cell_type": "markdown",
      "metadata": {
        "id": "view-in-github",
        "colab_type": "text"
      },
      "source": [
        "<a href=\"https://colab.research.google.com/github/Zack445/CSC-521/blob/main/W4_Zachary_Mercado.ipynb\" target=\"_parent\"><img src=\"https://colab.research.google.com/assets/colab-badge.svg\" alt=\"Open In Colab\"/></a>"
      ]
    },
    {
      "cell_type": "markdown",
      "source": [
        "Problem 1"
      ],
      "metadata": {
        "id": "17aYF-_-MlTk"
      }
    },
    {
      "cell_type": "markdown",
      "source": [
        "```\n",
        "// Input: A nonnegative integer n\n",
        "S ← 0\n",
        "for i ← 1 to n do\n",
        "  S ← S + i * i\n",
        "return S\n",
        "```"
      ],
      "metadata": {
        "id": "WTdYROClL5VD"
      }
    },
    {
      "cell_type": "markdown",
      "source": [
        "1. What does this algorithm compute?"
      ],
      "metadata": {
        "id": "Qj4jrvyHLCKk"
      }
    },
    {
      "cell_type": "markdown",
      "source": [
        "This algorithm computes the sum of the squares of the first n positive integers."
      ],
      "metadata": {
        "id": "SQs1KexLL2t3"
      }
    },
    {
      "cell_type": "markdown",
      "source": [
        "2. What is its basic operation?"
      ],
      "metadata": {
        "id": "Gf_HtrwtMHQw"
      }
    },
    {
      "cell_type": "markdown",
      "source": [
        "The basic operation is the computation of i × i and the addition of this result to S."
      ],
      "metadata": {
        "id": "6DqpvWGTMKxf"
      }
    },
    {
      "cell_type": "markdown",
      "source": [
        "3. How many times is the basic operation executed?"
      ],
      "metadata": {
        "id": "jKF4CglsMNYK"
      }
    },
    {
      "cell_type": "markdown",
      "source": [
        "The basic operation is executed n times, as it is performed in each iteration of the loop."
      ],
      "metadata": {
        "id": "2ad0-Ip8MP0v"
      }
    },
    {
      "cell_type": "markdown",
      "source": [
        "4. What is the efficiency class of this algorithm?"
      ],
      "metadata": {
        "id": "GTMFk0UkMRmi"
      }
    },
    {
      "cell_type": "markdown",
      "source": [
        "The efficiency class of this algorithm is O(n), where n is the input size. This is because the\n",
        "algorithm contains a single loop that iterates n times."
      ],
      "metadata": {
        "id": "s5tInX5eMTKJ"
      }
    },
    {
      "cell_type": "markdown",
      "source": [
        "5. Suggest an improvement, or a better algorithm altogether, and indicate its efficiency\n",
        "class. If you cannot do it, try to prove that, in fact, it cannot be done."
      ],
      "metadata": {
        "id": "eJKz2eZdMVUD"
      }
    },
    {
      "cell_type": "markdown",
      "source": [
        "An improved approach is to use the formula for the sum of squares of the first n positive integers:\n",
        "S =\n",
        "(n(n + 1)(2n + 1))/6\n",
        "This formula computes the result in constant time O(1), which is more efficient than the O(n)\n",
        "algorithm.\n"
      ],
      "metadata": {
        "id": "NG4dNFnWMXQj"
      }
    },
    {
      "cell_type": "markdown",
      "source": [
        " Problem 2"
      ],
      "metadata": {
        "id": "f3Sc1tMGMjem"
      }
    },
    {
      "cell_type": "markdown",
      "source": [
        "```\n",
        "// Input: A matrix A[0..n 1, 0..n 1] of real numbers\n",
        "for i ← 0 to n 2 do\n",
        "  for j ← i + 1 to n 1 do\n",
        "    if A[i, j] A[j, i]\n",
        "      return false\n",
        "return true\n",
        "```"
      ],
      "metadata": {
        "id": "mBYuEy81Mp33"
      }
    },
    {
      "cell_type": "markdown",
      "source": [
        "1. What does this algorithm compute?"
      ],
      "metadata": {
        "id": "7lqXsy0ZM6HP"
      }
    },
    {
      "cell_type": "markdown",
      "source": [
        "This algorithm checks if a given matrix A is symmetric. It returns true if the matrix is symmetric, and false otherwise."
      ],
      "metadata": {
        "id": "buba6E-DM8J1"
      }
    },
    {
      "cell_type": "markdown",
      "source": [
        "2. What is its basic operation?"
      ],
      "metadata": {
        "id": "DZ6725svM_zC"
      }
    },
    {
      "cell_type": "markdown",
      "source": [
        "The basic operation is the comparison A[i, j] ̸= A[j, i]."
      ],
      "metadata": {
        "id": "hW-Ec8ykNEF8"
      }
    },
    {
      "cell_type": "markdown",
      "source": [
        "3. How many times is the basic operation executed?"
      ],
      "metadata": {
        "id": "6y03Ue2RNGlG"
      }
    },
    {
      "cell_type": "markdown",
      "source": [
        "The basic operation is executed approximately (n(n−1))/2\n",
        "times, due to the nested loops where j\n",
        "runs from i + 1 to n − 1."
      ],
      "metadata": {
        "id": "xaw9PGHCNJMo"
      }
    },
    {
      "cell_type": "markdown",
      "source": [
        "4. What is the efficiency class of this algorithm?"
      ],
      "metadata": {
        "id": "1Dj2dbUHNRES"
      }
    },
    {
      "cell_type": "markdown",
      "source": [
        "The efficiency class of this algorithm is O(n^2). This is because there are two nested loops each\n",
        "iterating up to n, leading to a quadratic number of comparisons."
      ],
      "metadata": {
        "id": "v6JAjDhcNRpE"
      }
    },
    {
      "cell_type": "markdown",
      "source": [
        "5. Suggest an improvement, or a better algorithm altogether, and indicate its efficiency\n",
        "class. If you cannot do it, try to prove that, in fact, it cannot be done."
      ],
      "metadata": {
        "id": "DqnIT7HQNWTv"
      }
    },
    {
      "cell_type": "markdown",
      "source": [
        "This algorithm is already quite efficient for checking matrix symmetry. Improvements are limited\n",
        "by the necessity to compare each pair of elements. Thus, O(n^2) is the best possible efficiency class for this problem."
      ],
      "metadata": {
        "id": "5_iCG5FpNYw_"
      }
    },
    {
      "cell_type": "markdown",
      "source": [
        "Problem 3"
      ],
      "metadata": {
        "id": "cYHiqZ5aNgxP"
      }
    },
    {
      "cell_type": "markdown",
      "source": [
        "```\n",
        "// Input: An n × (n + 1) matrix A[0..n 1, 0..n] of real numbers\n",
        "for i ← 0 to n 2 do\n",
        "  for j ← i + 1 to n 1 do\n",
        "    for k ← i to n do\n",
        "      A[j, k] ← A[j, k] A[i, k] * A[j, i] / A[i, i]\n",
        "```"
      ],
      "metadata": {
        "id": "AsYh57hyNirX"
      }
    },
    {
      "cell_type": "markdown",
      "source": [
        "1. Find the time efficiency class of this algorithm."
      ],
      "metadata": {
        "id": "5YjVaf_gNoPr"
      }
    },
    {
      "cell_type": "markdown",
      "source": [
        "The time efficiency class of this algorithm is O(n^3). This is because there are three nested loops,\n",
        "each iterating up to n times."
      ],
      "metadata": {
        "id": "SC-n0oniNqVh"
      }
    },
    {
      "cell_type": "markdown",
      "source": [
        "2. What glaring inefficiency does this pseudocode contain and how can it be eliminated to\n",
        "speed the algorithm up?"
      ],
      "metadata": {
        "id": "Vn2KANL8Nw8j"
      }
    },
    {
      "cell_type": "markdown",
      "source": [
        "The inefficiency in this pseudocode is that it performs redundant calculations of A[i, i] in each\n",
        "iteration of the innermost loop. To improve efficiency, the value of A[i, i] should be computed\n",
        "once per iteration of the i-loop and stored in a temporary variable. The pseudocode can be\n",
        "modified as follows:\n",
        "```\n",
        "// Input: An n × (n + 1) matrix A[0..n 1, 0..n] of real numbers\n",
        "for i ← 0 to n 2 do\n",
        "  divisor ← A[i, i]\n",
        "  for j ← i + 1 to n 1 do\n",
        "    for k ← i to n do\n",
        "      A[j, k] ← A[j, k] A[i, k] * A[j, i] / divisor\n",
        "```\n",
        "This change reduces the number of operations performed in the innermost loop, improving overall efficiency."
      ],
      "metadata": {
        "id": "TzPvAOtaNzeC"
      }
    }
  ]
}